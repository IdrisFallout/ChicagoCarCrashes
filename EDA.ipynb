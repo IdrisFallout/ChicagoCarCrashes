{
 "cells": [
  {
   "cell_type": "markdown",
   "metadata": {},
   "source": [
    "# Chicago Car Crashes Project"
   ]
  },
  {
   "cell_type": "markdown",
   "metadata": {},
   "source": [
    "**Build a model to predict the severity of a traffic crashes.**"
   ]
  },
  {
   "cell_type": "markdown",
   "metadata": {},
   "source": [
    "# Importing libraries"
   ]
  },
  {
   "cell_type": "code",
   "execution_count": 43,
   "metadata": {},
   "outputs": [],
   "source": [
    "#importing libraries\n",
    "import pandas as pd\n",
    "import numpy as np\n",
    "import seaborn as sns\n",
    "import matplotlib.pyplot as plt\n",
    "%matplotlib inline\n",
    "\n",
    "pd.set_option('display.max_columns', None)\n",
    "pd.set_option('display.max_rows', None)"
   ]
  },
  {
   "cell_type": "markdown",
   "metadata": {},
   "source": [
    "# Loading Data"
   ]
  },
  {
   "cell_type": "markdown",
   "metadata": {},
   "source": [
    "Using the data from \"Chicago Car Crash Dataset\".\n",
    "The dataset can be found here:\n",
    "https://data.cityofchicago.org/Transportation/Traffic-Crashes-Crashes/85ca-t3if"
   ]
  },
  {
   "cell_type": "code",
   "execution_count": 44,
   "metadata": {},
   "outputs": [],
   "source": [
    "#loading the data into dataframe using pandas\n",
    "df = pd.read_csv('data/Traffic_Crashes_-_Crashes_20240830.csv')"
   ]
  },
  {
   "cell_type": "code",
   "execution_count": 45,
   "metadata": {},
   "outputs": [
    {
     "data": {
      "text/plain": [
       "(867811, 48)"
      ]
     },
     "execution_count": 45,
     "metadata": {},
     "output_type": "execute_result"
    }
   ],
   "source": [
    "#checking the shape of dataframe\n",
    "df.shape"
   ]
  },
  {
   "cell_type": "code",
   "execution_count": 46,
   "metadata": {},
   "outputs": [
    {
     "data": {
      "text/html": [
       "<div>\n",
       "<style scoped>\n",
       "    .dataframe tbody tr th:only-of-type {\n",
       "        vertical-align: middle;\n",
       "    }\n",
       "\n",
       "    .dataframe tbody tr th {\n",
       "        vertical-align: top;\n",
       "    }\n",
       "\n",
       "    .dataframe thead th {\n",
       "        text-align: right;\n",
       "    }\n",
       "</style>\n",
       "<table border=\"1\" class=\"dataframe\">\n",
       "  <thead>\n",
       "    <tr style=\"text-align: right;\">\n",
       "      <th></th>\n",
       "      <th>CRASH_RECORD_ID</th>\n",
       "      <th>CRASH_DATE_EST_I</th>\n",
       "      <th>CRASH_DATE</th>\n",
       "      <th>POSTED_SPEED_LIMIT</th>\n",
       "      <th>TRAFFIC_CONTROL_DEVICE</th>\n",
       "      <th>DEVICE_CONDITION</th>\n",
       "      <th>WEATHER_CONDITION</th>\n",
       "      <th>LIGHTING_CONDITION</th>\n",
       "      <th>FIRST_CRASH_TYPE</th>\n",
       "      <th>TRAFFICWAY_TYPE</th>\n",
       "      <th>LANE_CNT</th>\n",
       "      <th>ALIGNMENT</th>\n",
       "      <th>ROADWAY_SURFACE_COND</th>\n",
       "      <th>ROAD_DEFECT</th>\n",
       "      <th>REPORT_TYPE</th>\n",
       "      <th>CRASH_TYPE</th>\n",
       "      <th>INTERSECTION_RELATED_I</th>\n",
       "      <th>NOT_RIGHT_OF_WAY_I</th>\n",
       "      <th>HIT_AND_RUN_I</th>\n",
       "      <th>DAMAGE</th>\n",
       "      <th>DATE_POLICE_NOTIFIED</th>\n",
       "      <th>PRIM_CONTRIBUTORY_CAUSE</th>\n",
       "      <th>SEC_CONTRIBUTORY_CAUSE</th>\n",
       "      <th>STREET_NO</th>\n",
       "      <th>STREET_DIRECTION</th>\n",
       "      <th>STREET_NAME</th>\n",
       "      <th>BEAT_OF_OCCURRENCE</th>\n",
       "      <th>PHOTOS_TAKEN_I</th>\n",
       "      <th>STATEMENTS_TAKEN_I</th>\n",
       "      <th>DOORING_I</th>\n",
       "      <th>WORK_ZONE_I</th>\n",
       "      <th>WORK_ZONE_TYPE</th>\n",
       "      <th>WORKERS_PRESENT_I</th>\n",
       "      <th>NUM_UNITS</th>\n",
       "      <th>MOST_SEVERE_INJURY</th>\n",
       "      <th>INJURIES_TOTAL</th>\n",
       "      <th>INJURIES_FATAL</th>\n",
       "      <th>INJURIES_INCAPACITATING</th>\n",
       "      <th>INJURIES_NON_INCAPACITATING</th>\n",
       "      <th>INJURIES_REPORTED_NOT_EVIDENT</th>\n",
       "      <th>INJURIES_NO_INDICATION</th>\n",
       "      <th>INJURIES_UNKNOWN</th>\n",
       "      <th>CRASH_HOUR</th>\n",
       "      <th>CRASH_DAY_OF_WEEK</th>\n",
       "      <th>CRASH_MONTH</th>\n",
       "      <th>LATITUDE</th>\n",
       "      <th>LONGITUDE</th>\n",
       "      <th>LOCATION</th>\n",
       "    </tr>\n",
       "  </thead>\n",
       "  <tbody>\n",
       "    <tr>\n",
       "      <th>0</th>\n",
       "      <td>6c1659069e9c6285a650e70d6f9b574ed5f64c12888479...</td>\n",
       "      <td>NaN</td>\n",
       "      <td>08/18/2023 12:50:00 PM</td>\n",
       "      <td>15</td>\n",
       "      <td>OTHER</td>\n",
       "      <td>FUNCTIONING PROPERLY</td>\n",
       "      <td>CLEAR</td>\n",
       "      <td>DAYLIGHT</td>\n",
       "      <td>REAR END</td>\n",
       "      <td>OTHER</td>\n",
       "      <td>NaN</td>\n",
       "      <td>STRAIGHT AND LEVEL</td>\n",
       "      <td>DRY</td>\n",
       "      <td>NO DEFECTS</td>\n",
       "      <td>ON SCENE</td>\n",
       "      <td>INJURY AND / OR TOW DUE TO CRASH</td>\n",
       "      <td>NaN</td>\n",
       "      <td>NaN</td>\n",
       "      <td>NaN</td>\n",
       "      <td>OVER $1,500</td>\n",
       "      <td>08/18/2023 12:55:00 PM</td>\n",
       "      <td>FOLLOWING TOO CLOSELY</td>\n",
       "      <td>DISTRACTION - FROM INSIDE VEHICLE</td>\n",
       "      <td>700</td>\n",
       "      <td>W</td>\n",
       "      <td>OHARE ST</td>\n",
       "      <td>1654.0</td>\n",
       "      <td>NaN</td>\n",
       "      <td>NaN</td>\n",
       "      <td>NaN</td>\n",
       "      <td>NaN</td>\n",
       "      <td>NaN</td>\n",
       "      <td>NaN</td>\n",
       "      <td>2</td>\n",
       "      <td>NONINCAPACITATING INJURY</td>\n",
       "      <td>1.0</td>\n",
       "      <td>0.0</td>\n",
       "      <td>0.0</td>\n",
       "      <td>1.0</td>\n",
       "      <td>0.0</td>\n",
       "      <td>1.0</td>\n",
       "      <td>0.0</td>\n",
       "      <td>12</td>\n",
       "      <td>6</td>\n",
       "      <td>8</td>\n",
       "      <td>NaN</td>\n",
       "      <td>NaN</td>\n",
       "      <td>NaN</td>\n",
       "    </tr>\n",
       "    <tr>\n",
       "      <th>1</th>\n",
       "      <td>5f54a59fcb087b12ae5b1acff96a3caf4f2d37e79f8db4...</td>\n",
       "      <td>NaN</td>\n",
       "      <td>07/29/2023 02:45:00 PM</td>\n",
       "      <td>30</td>\n",
       "      <td>TRAFFIC SIGNAL</td>\n",
       "      <td>FUNCTIONING PROPERLY</td>\n",
       "      <td>CLEAR</td>\n",
       "      <td>DAYLIGHT</td>\n",
       "      <td>PARKED MOTOR VEHICLE</td>\n",
       "      <td>DIVIDED - W/MEDIAN (NOT RAISED)</td>\n",
       "      <td>NaN</td>\n",
       "      <td>STRAIGHT AND LEVEL</td>\n",
       "      <td>DRY</td>\n",
       "      <td>NO DEFECTS</td>\n",
       "      <td>ON SCENE</td>\n",
       "      <td>NO INJURY / DRIVE AWAY</td>\n",
       "      <td>NaN</td>\n",
       "      <td>NaN</td>\n",
       "      <td>Y</td>\n",
       "      <td>OVER $1,500</td>\n",
       "      <td>07/29/2023 02:45:00 PM</td>\n",
       "      <td>FAILING TO REDUCE SPEED TO AVOID CRASH</td>\n",
       "      <td>OPERATING VEHICLE IN ERRATIC, RECKLESS, CARELE...</td>\n",
       "      <td>2101</td>\n",
       "      <td>S</td>\n",
       "      <td>ASHLAND AVE</td>\n",
       "      <td>1235.0</td>\n",
       "      <td>NaN</td>\n",
       "      <td>NaN</td>\n",
       "      <td>NaN</td>\n",
       "      <td>NaN</td>\n",
       "      <td>NaN</td>\n",
       "      <td>NaN</td>\n",
       "      <td>4</td>\n",
       "      <td>NO INDICATION OF INJURY</td>\n",
       "      <td>0.0</td>\n",
       "      <td>0.0</td>\n",
       "      <td>0.0</td>\n",
       "      <td>0.0</td>\n",
       "      <td>0.0</td>\n",
       "      <td>1.0</td>\n",
       "      <td>0.0</td>\n",
       "      <td>14</td>\n",
       "      <td>7</td>\n",
       "      <td>7</td>\n",
       "      <td>41.854120</td>\n",
       "      <td>-87.665902</td>\n",
       "      <td>POINT (-87.665902342962 41.854120262952)</td>\n",
       "    </tr>\n",
       "    <tr>\n",
       "      <th>2</th>\n",
       "      <td>61fcb8c1eb522a6469b460e2134df3d15f82e81fd93e9c...</td>\n",
       "      <td>NaN</td>\n",
       "      <td>08/18/2023 05:58:00 PM</td>\n",
       "      <td>30</td>\n",
       "      <td>NO CONTROLS</td>\n",
       "      <td>NO CONTROLS</td>\n",
       "      <td>CLEAR</td>\n",
       "      <td>DAYLIGHT</td>\n",
       "      <td>PEDALCYCLIST</td>\n",
       "      <td>NOT DIVIDED</td>\n",
       "      <td>NaN</td>\n",
       "      <td>STRAIGHT AND LEVEL</td>\n",
       "      <td>DRY</td>\n",
       "      <td>NO DEFECTS</td>\n",
       "      <td>ON SCENE</td>\n",
       "      <td>INJURY AND / OR TOW DUE TO CRASH</td>\n",
       "      <td>NaN</td>\n",
       "      <td>NaN</td>\n",
       "      <td>NaN</td>\n",
       "      <td>$501 - $1,500</td>\n",
       "      <td>08/18/2023 06:01:00 PM</td>\n",
       "      <td>FAILING TO REDUCE SPEED TO AVOID CRASH</td>\n",
       "      <td>UNABLE TO DETERMINE</td>\n",
       "      <td>3422</td>\n",
       "      <td>N</td>\n",
       "      <td>LONG AVE</td>\n",
       "      <td>1633.0</td>\n",
       "      <td>NaN</td>\n",
       "      <td>NaN</td>\n",
       "      <td>NaN</td>\n",
       "      <td>NaN</td>\n",
       "      <td>NaN</td>\n",
       "      <td>NaN</td>\n",
       "      <td>2</td>\n",
       "      <td>NONINCAPACITATING INJURY</td>\n",
       "      <td>1.0</td>\n",
       "      <td>0.0</td>\n",
       "      <td>0.0</td>\n",
       "      <td>1.0</td>\n",
       "      <td>0.0</td>\n",
       "      <td>1.0</td>\n",
       "      <td>0.0</td>\n",
       "      <td>17</td>\n",
       "      <td>6</td>\n",
       "      <td>8</td>\n",
       "      <td>41.942976</td>\n",
       "      <td>-87.761883</td>\n",
       "      <td>POINT (-87.761883496974 41.942975745006)</td>\n",
       "    </tr>\n",
       "    <tr>\n",
       "      <th>3</th>\n",
       "      <td>004cd14d0303a9163aad69a2d7f341b7da2a8572b2ab33...</td>\n",
       "      <td>NaN</td>\n",
       "      <td>11/26/2019 08:38:00 AM</td>\n",
       "      <td>25</td>\n",
       "      <td>NO CONTROLS</td>\n",
       "      <td>NO CONTROLS</td>\n",
       "      <td>CLEAR</td>\n",
       "      <td>DAYLIGHT</td>\n",
       "      <td>PEDESTRIAN</td>\n",
       "      <td>ONE-WAY</td>\n",
       "      <td>NaN</td>\n",
       "      <td>CURVE ON GRADE</td>\n",
       "      <td>DRY</td>\n",
       "      <td>NO DEFECTS</td>\n",
       "      <td>ON SCENE</td>\n",
       "      <td>INJURY AND / OR TOW DUE TO CRASH</td>\n",
       "      <td>NaN</td>\n",
       "      <td>NaN</td>\n",
       "      <td>NaN</td>\n",
       "      <td>OVER $1,500</td>\n",
       "      <td>11/26/2019 08:38:00 AM</td>\n",
       "      <td>UNABLE TO DETERMINE</td>\n",
       "      <td>NOT APPLICABLE</td>\n",
       "      <td>5</td>\n",
       "      <td>W</td>\n",
       "      <td>TERMINAL ST</td>\n",
       "      <td>1655.0</td>\n",
       "      <td>Y</td>\n",
       "      <td>Y</td>\n",
       "      <td>NaN</td>\n",
       "      <td>NaN</td>\n",
       "      <td>NaN</td>\n",
       "      <td>NaN</td>\n",
       "      <td>2</td>\n",
       "      <td>FATAL</td>\n",
       "      <td>1.0</td>\n",
       "      <td>1.0</td>\n",
       "      <td>0.0</td>\n",
       "      <td>0.0</td>\n",
       "      <td>0.0</td>\n",
       "      <td>1.0</td>\n",
       "      <td>0.0</td>\n",
       "      <td>8</td>\n",
       "      <td>3</td>\n",
       "      <td>11</td>\n",
       "      <td>NaN</td>\n",
       "      <td>NaN</td>\n",
       "      <td>NaN</td>\n",
       "    </tr>\n",
       "    <tr>\n",
       "      <th>4</th>\n",
       "      <td>a1d5f0ea90897745365a4cbb06cc60329a120d89753fac...</td>\n",
       "      <td>NaN</td>\n",
       "      <td>08/18/2023 10:45:00 AM</td>\n",
       "      <td>20</td>\n",
       "      <td>NO CONTROLS</td>\n",
       "      <td>NO CONTROLS</td>\n",
       "      <td>CLEAR</td>\n",
       "      <td>DAYLIGHT</td>\n",
       "      <td>FIXED OBJECT</td>\n",
       "      <td>OTHER</td>\n",
       "      <td>NaN</td>\n",
       "      <td>STRAIGHT AND LEVEL</td>\n",
       "      <td>DRY</td>\n",
       "      <td>NO DEFECTS</td>\n",
       "      <td>ON SCENE</td>\n",
       "      <td>NO INJURY / DRIVE AWAY</td>\n",
       "      <td>NaN</td>\n",
       "      <td>NaN</td>\n",
       "      <td>NaN</td>\n",
       "      <td>OVER $1,500</td>\n",
       "      <td>08/18/2023 10:48:00 AM</td>\n",
       "      <td>FOLLOWING TOO CLOSELY</td>\n",
       "      <td>DRIVING SKILLS/KNOWLEDGE/EXPERIENCE</td>\n",
       "      <td>3</td>\n",
       "      <td>W</td>\n",
       "      <td>TERMINAL ST</td>\n",
       "      <td>1653.0</td>\n",
       "      <td>NaN</td>\n",
       "      <td>NaN</td>\n",
       "      <td>NaN</td>\n",
       "      <td>NaN</td>\n",
       "      <td>NaN</td>\n",
       "      <td>NaN</td>\n",
       "      <td>1</td>\n",
       "      <td>NO INDICATION OF INJURY</td>\n",
       "      <td>0.0</td>\n",
       "      <td>0.0</td>\n",
       "      <td>0.0</td>\n",
       "      <td>0.0</td>\n",
       "      <td>0.0</td>\n",
       "      <td>1.0</td>\n",
       "      <td>0.0</td>\n",
       "      <td>10</td>\n",
       "      <td>6</td>\n",
       "      <td>8</td>\n",
       "      <td>NaN</td>\n",
       "      <td>NaN</td>\n",
       "      <td>NaN</td>\n",
       "    </tr>\n",
       "  </tbody>\n",
       "</table>\n",
       "</div>"
      ],
      "text/plain": [
       "                                     CRASH_RECORD_ID CRASH_DATE_EST_I  \\\n",
       "0  6c1659069e9c6285a650e70d6f9b574ed5f64c12888479...              NaN   \n",
       "1  5f54a59fcb087b12ae5b1acff96a3caf4f2d37e79f8db4...              NaN   \n",
       "2  61fcb8c1eb522a6469b460e2134df3d15f82e81fd93e9c...              NaN   \n",
       "3  004cd14d0303a9163aad69a2d7f341b7da2a8572b2ab33...              NaN   \n",
       "4  a1d5f0ea90897745365a4cbb06cc60329a120d89753fac...              NaN   \n",
       "\n",
       "               CRASH_DATE  POSTED_SPEED_LIMIT TRAFFIC_CONTROL_DEVICE  \\\n",
       "0  08/18/2023 12:50:00 PM                  15                  OTHER   \n",
       "1  07/29/2023 02:45:00 PM                  30         TRAFFIC SIGNAL   \n",
       "2  08/18/2023 05:58:00 PM                  30            NO CONTROLS   \n",
       "3  11/26/2019 08:38:00 AM                  25            NO CONTROLS   \n",
       "4  08/18/2023 10:45:00 AM                  20            NO CONTROLS   \n",
       "\n",
       "       DEVICE_CONDITION WEATHER_CONDITION LIGHTING_CONDITION  \\\n",
       "0  FUNCTIONING PROPERLY             CLEAR           DAYLIGHT   \n",
       "1  FUNCTIONING PROPERLY             CLEAR           DAYLIGHT   \n",
       "2           NO CONTROLS             CLEAR           DAYLIGHT   \n",
       "3           NO CONTROLS             CLEAR           DAYLIGHT   \n",
       "4           NO CONTROLS             CLEAR           DAYLIGHT   \n",
       "\n",
       "       FIRST_CRASH_TYPE                  TRAFFICWAY_TYPE  LANE_CNT  \\\n",
       "0              REAR END                            OTHER       NaN   \n",
       "1  PARKED MOTOR VEHICLE  DIVIDED - W/MEDIAN (NOT RAISED)       NaN   \n",
       "2          PEDALCYCLIST                      NOT DIVIDED       NaN   \n",
       "3            PEDESTRIAN                          ONE-WAY       NaN   \n",
       "4          FIXED OBJECT                            OTHER       NaN   \n",
       "\n",
       "            ALIGNMENT ROADWAY_SURFACE_COND ROAD_DEFECT REPORT_TYPE  \\\n",
       "0  STRAIGHT AND LEVEL                  DRY  NO DEFECTS    ON SCENE   \n",
       "1  STRAIGHT AND LEVEL                  DRY  NO DEFECTS    ON SCENE   \n",
       "2  STRAIGHT AND LEVEL                  DRY  NO DEFECTS    ON SCENE   \n",
       "3      CURVE ON GRADE                  DRY  NO DEFECTS    ON SCENE   \n",
       "4  STRAIGHT AND LEVEL                  DRY  NO DEFECTS    ON SCENE   \n",
       "\n",
       "                         CRASH_TYPE INTERSECTION_RELATED_I NOT_RIGHT_OF_WAY_I  \\\n",
       "0  INJURY AND / OR TOW DUE TO CRASH                    NaN                NaN   \n",
       "1            NO INJURY / DRIVE AWAY                    NaN                NaN   \n",
       "2  INJURY AND / OR TOW DUE TO CRASH                    NaN                NaN   \n",
       "3  INJURY AND / OR TOW DUE TO CRASH                    NaN                NaN   \n",
       "4            NO INJURY / DRIVE AWAY                    NaN                NaN   \n",
       "\n",
       "  HIT_AND_RUN_I         DAMAGE    DATE_POLICE_NOTIFIED  \\\n",
       "0           NaN    OVER $1,500  08/18/2023 12:55:00 PM   \n",
       "1             Y    OVER $1,500  07/29/2023 02:45:00 PM   \n",
       "2           NaN  $501 - $1,500  08/18/2023 06:01:00 PM   \n",
       "3           NaN    OVER $1,500  11/26/2019 08:38:00 AM   \n",
       "4           NaN    OVER $1,500  08/18/2023 10:48:00 AM   \n",
       "\n",
       "                  PRIM_CONTRIBUTORY_CAUSE  \\\n",
       "0                   FOLLOWING TOO CLOSELY   \n",
       "1  FAILING TO REDUCE SPEED TO AVOID CRASH   \n",
       "2  FAILING TO REDUCE SPEED TO AVOID CRASH   \n",
       "3                     UNABLE TO DETERMINE   \n",
       "4                   FOLLOWING TOO CLOSELY   \n",
       "\n",
       "                              SEC_CONTRIBUTORY_CAUSE  STREET_NO  \\\n",
       "0                  DISTRACTION - FROM INSIDE VEHICLE        700   \n",
       "1  OPERATING VEHICLE IN ERRATIC, RECKLESS, CARELE...       2101   \n",
       "2                                UNABLE TO DETERMINE       3422   \n",
       "3                                     NOT APPLICABLE          5   \n",
       "4                DRIVING SKILLS/KNOWLEDGE/EXPERIENCE          3   \n",
       "\n",
       "  STREET_DIRECTION  STREET_NAME  BEAT_OF_OCCURRENCE PHOTOS_TAKEN_I  \\\n",
       "0                W     OHARE ST              1654.0            NaN   \n",
       "1                S  ASHLAND AVE              1235.0            NaN   \n",
       "2                N     LONG AVE              1633.0            NaN   \n",
       "3                W  TERMINAL ST              1655.0              Y   \n",
       "4                W  TERMINAL ST              1653.0            NaN   \n",
       "\n",
       "  STATEMENTS_TAKEN_I DOORING_I WORK_ZONE_I WORK_ZONE_TYPE WORKERS_PRESENT_I  \\\n",
       "0                NaN       NaN         NaN            NaN               NaN   \n",
       "1                NaN       NaN         NaN            NaN               NaN   \n",
       "2                NaN       NaN         NaN            NaN               NaN   \n",
       "3                  Y       NaN         NaN            NaN               NaN   \n",
       "4                NaN       NaN         NaN            NaN               NaN   \n",
       "\n",
       "   NUM_UNITS        MOST_SEVERE_INJURY  INJURIES_TOTAL  INJURIES_FATAL  \\\n",
       "0          2  NONINCAPACITATING INJURY             1.0             0.0   \n",
       "1          4   NO INDICATION OF INJURY             0.0             0.0   \n",
       "2          2  NONINCAPACITATING INJURY             1.0             0.0   \n",
       "3          2                     FATAL             1.0             1.0   \n",
       "4          1   NO INDICATION OF INJURY             0.0             0.0   \n",
       "\n",
       "   INJURIES_INCAPACITATING  INJURIES_NON_INCAPACITATING  \\\n",
       "0                      0.0                          1.0   \n",
       "1                      0.0                          0.0   \n",
       "2                      0.0                          1.0   \n",
       "3                      0.0                          0.0   \n",
       "4                      0.0                          0.0   \n",
       "\n",
       "   INJURIES_REPORTED_NOT_EVIDENT  INJURIES_NO_INDICATION  INJURIES_UNKNOWN  \\\n",
       "0                            0.0                     1.0               0.0   \n",
       "1                            0.0                     1.0               0.0   \n",
       "2                            0.0                     1.0               0.0   \n",
       "3                            0.0                     1.0               0.0   \n",
       "4                            0.0                     1.0               0.0   \n",
       "\n",
       "   CRASH_HOUR  CRASH_DAY_OF_WEEK  CRASH_MONTH   LATITUDE  LONGITUDE  \\\n",
       "0          12                  6            8        NaN        NaN   \n",
       "1          14                  7            7  41.854120 -87.665902   \n",
       "2          17                  6            8  41.942976 -87.761883   \n",
       "3           8                  3           11        NaN        NaN   \n",
       "4          10                  6            8        NaN        NaN   \n",
       "\n",
       "                                   LOCATION  \n",
       "0                                       NaN  \n",
       "1  POINT (-87.665902342962 41.854120262952)  \n",
       "2  POINT (-87.761883496974 41.942975745006)  \n",
       "3                                       NaN  \n",
       "4                                       NaN  "
      ]
     },
     "execution_count": 46,
     "metadata": {},
     "output_type": "execute_result"
    }
   ],
   "source": [
    "#printing the first five rows of dataframe\n",
    "df.head()"
   ]
  },
  {
   "cell_type": "code",
   "execution_count": 47,
   "metadata": {},
   "outputs": [
    {
     "name": "stdout",
     "output_type": "stream",
     "text": [
      "<class 'pandas.core.frame.DataFrame'>\n",
      "RangeIndex: 867811 entries, 0 to 867810\n",
      "Data columns (total 48 columns):\n",
      " #   Column                         Non-Null Count   Dtype  \n",
      "---  ------                         --------------   -----  \n",
      " 0   CRASH_RECORD_ID                867811 non-null  object \n",
      " 1   CRASH_DATE_EST_I               64448 non-null   object \n",
      " 2   CRASH_DATE                     867811 non-null  object \n",
      " 3   POSTED_SPEED_LIMIT             867811 non-null  int64  \n",
      " 4   TRAFFIC_CONTROL_DEVICE         867811 non-null  object \n",
      " 5   DEVICE_CONDITION               867811 non-null  object \n",
      " 6   WEATHER_CONDITION              867811 non-null  object \n",
      " 7   LIGHTING_CONDITION             867811 non-null  object \n",
      " 8   FIRST_CRASH_TYPE               867811 non-null  object \n",
      " 9   TRAFFICWAY_TYPE                867811 non-null  object \n",
      " 10  LANE_CNT                       199015 non-null  float64\n",
      " 11  ALIGNMENT                      867811 non-null  object \n",
      " 12  ROADWAY_SURFACE_COND           867811 non-null  object \n",
      " 13  ROAD_DEFECT                    867811 non-null  object \n",
      " 14  REPORT_TYPE                    841342 non-null  object \n",
      " 15  CRASH_TYPE                     867811 non-null  object \n",
      " 16  INTERSECTION_RELATED_I         198932 non-null  object \n",
      " 17  NOT_RIGHT_OF_WAY_I             39718 non-null   object \n",
      " 18  HIT_AND_RUN_I                  272001 non-null  object \n",
      " 19  DAMAGE                         867811 non-null  object \n",
      " 20  DATE_POLICE_NOTIFIED           867811 non-null  object \n",
      " 21  PRIM_CONTRIBUTORY_CAUSE        867811 non-null  object \n",
      " 22  SEC_CONTRIBUTORY_CAUSE         867811 non-null  object \n",
      " 23  STREET_NO                      867811 non-null  int64  \n",
      " 24  STREET_DIRECTION               867807 non-null  object \n",
      " 25  STREET_NAME                    867810 non-null  object \n",
      " 26  BEAT_OF_OCCURRENCE             867806 non-null  float64\n",
      " 27  PHOTOS_TAKEN_I                 11700 non-null   object \n",
      " 28  STATEMENTS_TAKEN_I             19801 non-null   object \n",
      " 29  DOORING_I                      2724 non-null    object \n",
      " 30  WORK_ZONE_I                    4903 non-null    object \n",
      " 31  WORK_ZONE_TYPE                 3784 non-null    object \n",
      " 32  WORKERS_PRESENT_I              1257 non-null    object \n",
      " 33  NUM_UNITS                      867811 non-null  int64  \n",
      " 34  MOST_SEVERE_INJURY             865888 non-null  object \n",
      " 35  INJURIES_TOTAL                 865901 non-null  float64\n",
      " 36  INJURIES_FATAL                 865901 non-null  float64\n",
      " 37  INJURIES_INCAPACITATING        865901 non-null  float64\n",
      " 38  INJURIES_NON_INCAPACITATING    865901 non-null  float64\n",
      " 39  INJURIES_REPORTED_NOT_EVIDENT  865901 non-null  float64\n",
      " 40  INJURIES_NO_INDICATION         865901 non-null  float64\n",
      " 41  INJURIES_UNKNOWN               865901 non-null  float64\n",
      " 42  CRASH_HOUR                     867811 non-null  int64  \n",
      " 43  CRASH_DAY_OF_WEEK              867811 non-null  int64  \n",
      " 44  CRASH_MONTH                    867811 non-null  int64  \n",
      " 45  LATITUDE                       861664 non-null  float64\n",
      " 46  LONGITUDE                      861664 non-null  float64\n",
      " 47  LOCATION                       861664 non-null  object \n",
      "dtypes: float64(11), int64(6), object(31)\n",
      "memory usage: 317.8+ MB\n"
     ]
    }
   ],
   "source": [
    "#checking the datatype of columns in the dataframe\n",
    "df.info()"
   ]
  },
  {
   "cell_type": "markdown",
   "metadata": {},
   "source": [
    "Looking at the information above , there are 32 object type columns that need to be\n",
    "taken care and also need to handle the missing values."
   ]
  },
  {
   "cell_type": "markdown",
   "metadata": {},
   "source": [
    "**Columns of the dataset represents:**"
   ]
  },
  {
   "cell_type": "markdown",
   "metadata": {},
   "source": [
    "- **CRASH_RECORD_ID**  : A unique ID can be used to link to the same crash in the Vehicles                                     and people datasets. \n",
    "- **RD_NO**:             Chicago Police Department report number. \n",
    "- **CRASH_DATE_EST_I** : Crash date estimated by desk officer or reporting party.\n",
    "- **CRASH_DATE** :       Date and time of crash.\n",
    "- **POSTED_SPEED_LIMIT**:Posted speed limit.\n",
    "- **TRAFFIC_CONTROL_DEVICE**:Traffic control device present at crash location.\n",
    "- **DEVICE_CONDITION**  : Condition of traffic control device.\n",
    "- **WEATHER_CONDITION** : Weather condition at time of crash.\n",
    "- **LIGHTING_CONDITION**: Light condition at time of crasH.\n",
    "- **FIRST_CRASH_TYPE**  : Type of first collision in crash.\n",
    "- **TRAFFICWAY_TYPE**   : Trafficway type.\n",
    "- **LANE_CNT**          : Total number of through lanes in either direction, excluding turn lanes.\n",
    "- **ALIGNMENT**         : Street alignment at crash location.\n",
    "- **ROADWAY_SURFACE_COND**:Road surface condition.\n",
    "- **ROAD_DEFECT**       : Road defects.\n",
    "- **REPORT_TYPE**       : Administrative report type (at scene, at desk, amended).\n",
    "- **CRASH_TYPE**        : A general severity classification for the crash. Can be either Injury  \n",
    "and/or Tow Due to Crash or No Injury / Drive Away.\n",
    "- **INTERSECTION_RELATED_I**:A field observation by the police officer whether an intersection played a role in the crash. Does not represent whether or not the crash occurred within the intersection.\n",
    "- **NOT_RIGHT_OF_WAY_I**  :Whether the crash begun or first contact was made outside of the public \n",
    "right-of-way.\n",
    "- **HIT_AND_RUN_I**      : Crash did/did not involve a driver who caused the crash and fled the scene without exchanging information and/or rendering aid.\n",
    "- **DAMAGE**             : A field observation of estimated damage.\n",
    "- **DATE_POLICE_NOTIFIED**: Calendar date on which police were notified of the crash.\n",
    "- **PRIM_CONTRIBUTORY_CAUSE**:The factor which was most significant in causing the crash.\n",
    "- **SEC_CONTRIBUTORY_CAUSE** :The factor which was second most significant in causing the crash.\n",
    "- **STREET_NO**            :Street address number of crash location.\n",
    "- **STREET_DIRECTION**     :Street address direction (N,E,S,W) of crash location.\n",
    "- **STREET_NAME**          :Street address name of crash location.\n",
    "- **BEAT_OF_OCCURRENCE**   :Chicago Police Department Beat ID.\n",
    "- **PHOTOS_TAKEN_I**       :Whether the Chicago Police Department took photos at the location of the \n",
    "crash.\n",
    "- **STATEMENTS_TAKEN_I**   :Whether statements were taken from unit(s) involved in crash.\n",
    "- **DOORING_I**            :Whether crash involved a motor vehicle occupant opening a door into the \n",
    "travel path of a bicyclist, causing a crash.\n",
    "- **WORK_ZONE_I**          :Whether the crash occurred in an active work zone.\n",
    "- **WORK_ZONE_TYPE**       :The type of work zone.           \n",
    "- **WORKERS_PRESENT_I**    :Whether construction workers were present in an active work zone at crash                             location\n",
    "- **NUM_UNITS**            :Number of units involved in the crash. \n",
    "- **MOST_SEVERE_INJURY**   :Most severe injury sustained by any person involved in the crash.\n",
    "- **INJURIES_TOTAL**       :Total persons sustaining fatal, incapacitating, non-incapacitating, and possible injuries.\n",
    "- **INJURIES_FATAL**       :Total persons sustaining fatal injuries in the crash.\n",
    "- **INJURIES_INCAPACITATING**:Total persons sustaining incapacitating/serious injuries in the crash.  - **INJURIES_NON_INCAPACITATING**:Total persons sustaining non-incapacitating injuries in the crash. -**INJURIES_REPORTED_NOT_EVIDENT**:Total persons sustaining possible injuries in the crash.       \n",
    "- **INJURIES_NO_INDICATION**:Total persons sustaining no injuries in the crash.\n",
    "- **INJURIES_UNKNOWN**      :Total persons for whom injuries sustained, if any, are unknown.         \n",
    "\n",
    "- **CRASH_HOUR**            :The hour of the day component of CRASH_DATE. \n",
    "- **CRASH_DAY_OF_WEEK**     :The day of the week component of CRASH_DATE. Sunday=1                \n",
    "- **CRASH_MONTH**           :The month component of CRASH_DATE.                \n",
    "- **LATITUDE**              :The latitude of the crash location.             \n",
    "- **LONGITUDE**             :The longitude of the crash location.            \n",
    "- **LOCATION**              :The crash location.          "
   ]
  },
  {
   "cell_type": "markdown",
   "metadata": {},
   "source": [
    "# Scrubing the Data"
   ]
  },
  {
   "cell_type": "code",
   "execution_count": 48,
   "metadata": {},
   "outputs": [
    {
     "data": {
      "text/plain": [
       "CRASH_RECORD_ID                       0\n",
       "CRASH_DATE_EST_I                 803363\n",
       "CRASH_DATE                            0\n",
       "POSTED_SPEED_LIMIT                    0\n",
       "TRAFFIC_CONTROL_DEVICE                0\n",
       "DEVICE_CONDITION                      0\n",
       "WEATHER_CONDITION                     0\n",
       "LIGHTING_CONDITION                    0\n",
       "FIRST_CRASH_TYPE                      0\n",
       "TRAFFICWAY_TYPE                       0\n",
       "LANE_CNT                         668796\n",
       "ALIGNMENT                             0\n",
       "ROADWAY_SURFACE_COND                  0\n",
       "ROAD_DEFECT                           0\n",
       "REPORT_TYPE                       26469\n",
       "CRASH_TYPE                            0\n",
       "INTERSECTION_RELATED_I           668879\n",
       "NOT_RIGHT_OF_WAY_I               828093\n",
       "HIT_AND_RUN_I                    595810\n",
       "DAMAGE                                0\n",
       "DATE_POLICE_NOTIFIED                  0\n",
       "PRIM_CONTRIBUTORY_CAUSE               0\n",
       "SEC_CONTRIBUTORY_CAUSE                0\n",
       "STREET_NO                             0\n",
       "STREET_DIRECTION                      4\n",
       "STREET_NAME                           1\n",
       "BEAT_OF_OCCURRENCE                    5\n",
       "PHOTOS_TAKEN_I                   856111\n",
       "STATEMENTS_TAKEN_I               848010\n",
       "DOORING_I                        865087\n",
       "WORK_ZONE_I                      862908\n",
       "WORK_ZONE_TYPE                   864027\n",
       "WORKERS_PRESENT_I                866554\n",
       "NUM_UNITS                             0\n",
       "MOST_SEVERE_INJURY                 1923\n",
       "INJURIES_TOTAL                     1910\n",
       "INJURIES_FATAL                     1910\n",
       "INJURIES_INCAPACITATING            1910\n",
       "INJURIES_NON_INCAPACITATING        1910\n",
       "INJURIES_REPORTED_NOT_EVIDENT      1910\n",
       "INJURIES_NO_INDICATION             1910\n",
       "INJURIES_UNKNOWN                   1910\n",
       "CRASH_HOUR                            0\n",
       "CRASH_DAY_OF_WEEK                     0\n",
       "CRASH_MONTH                           0\n",
       "LATITUDE                           6147\n",
       "LONGITUDE                          6147\n",
       "LOCATION                           6147\n",
       "dtype: int64"
      ]
     },
     "execution_count": 48,
     "metadata": {},
     "output_type": "execute_result"
    }
   ],
   "source": [
    "#checking for the null values\n",
    "df.isna().sum()"
   ]
  },
  {
   "cell_type": "markdown",
   "metadata": {},
   "source": [
    "Noticed null values over 400000 in columns PHOTOS_TAKEN_I, STATEMENTS_TAKEN_I, DOORING_I,              WORK_ZONE_I, WORK_ZONE_TYPE, WORKERS_PRESENT_I and NOT_RIGHT_OF_WAY_I.            "
   ]
  },
  {
   "cell_type": "markdown",
   "metadata": {},
   "source": [
    "# Choosing the Target variable"
   ]
  },
  {
   "cell_type": "code",
   "execution_count": 49,
   "metadata": {},
   "outputs": [
    {
     "data": {
      "text/plain": [
       "CRASH_TYPE\n",
       "NO INJURY / DRIVE AWAY              634907\n",
       "INJURY AND / OR TOW DUE TO CRASH    232904\n",
       "Name: count, dtype: int64"
      ]
     },
     "execution_count": 49,
     "metadata": {},
     "output_type": "execute_result"
    }
   ],
   "source": [
    "#checking the value counts\n",
    "df['CRASH_TYPE'].value_counts()"
   ]
  },
  {
   "cell_type": "markdown",
   "metadata": {},
   "source": [
    "- Target variable is the 'CRASH_TYPE' column which will be renamed 'SEVERE'.\n",
    "- The severity of the crash will be determined on whether or not their is an injury / a car being towed.\n",
    "- This column will be a binary column with 0 representing no injury and 1 representing an injury."
   ]
  },
  {
   "cell_type": "code",
   "execution_count": 50,
   "metadata": {},
   "outputs": [],
   "source": [
    "df.rename(columns = {'CRASH_TYPE': 'SEVERE'}, inplace = True)\n",
    "df['SEVERE'] = df['SEVERE'].map(lambda x:1 if x == 'INJURY AND / OR TOW DUE TO CRASH' else 0)"
   ]
  },
  {
   "cell_type": "code",
   "execution_count": 51,
   "metadata": {},
   "outputs": [
    {
     "data": {
      "text/plain": [
       "SEVERE\n",
       "0    634907\n",
       "1    232904\n",
       "Name: count, dtype: int64"
      ]
     },
     "execution_count": 51,
     "metadata": {},
     "output_type": "execute_result"
    }
   ],
   "source": [
    "df['SEVERE'].value_counts()"
   ]
  },
  {
   "cell_type": "markdown",
   "metadata": {},
   "source": [
    "**Changing the datatype of the 'CRASH_DATE' column from object to date.**"
   ]
  },
  {
   "cell_type": "code",
   "execution_count": 52,
   "metadata": {},
   "outputs": [],
   "source": [
    "df['CRASH_DATE'] = pd.to_datetime(df.CRASH_DATE)"
   ]
  },
  {
   "cell_type": "code",
   "execution_count": 53,
   "metadata": {},
   "outputs": [
    {
     "data": {
      "text/html": [
       "<div>\n",
       "<style scoped>\n",
       "    .dataframe tbody tr th:only-of-type {\n",
       "        vertical-align: middle;\n",
       "    }\n",
       "\n",
       "    .dataframe tbody tr th {\n",
       "        vertical-align: top;\n",
       "    }\n",
       "\n",
       "    .dataframe thead th {\n",
       "        text-align: right;\n",
       "    }\n",
       "</style>\n",
       "<table border=\"1\" class=\"dataframe\">\n",
       "  <thead>\n",
       "    <tr style=\"text-align: right;\">\n",
       "      <th></th>\n",
       "      <th>CRASH_RECORD_ID</th>\n",
       "      <th>CRASH_DATE_EST_I</th>\n",
       "      <th>CRASH_DATE</th>\n",
       "      <th>POSTED_SPEED_LIMIT</th>\n",
       "      <th>TRAFFIC_CONTROL_DEVICE</th>\n",
       "      <th>DEVICE_CONDITION</th>\n",
       "      <th>WEATHER_CONDITION</th>\n",
       "      <th>LIGHTING_CONDITION</th>\n",
       "      <th>FIRST_CRASH_TYPE</th>\n",
       "      <th>TRAFFICWAY_TYPE</th>\n",
       "      <th>LANE_CNT</th>\n",
       "      <th>ALIGNMENT</th>\n",
       "      <th>ROADWAY_SURFACE_COND</th>\n",
       "      <th>ROAD_DEFECT</th>\n",
       "      <th>REPORT_TYPE</th>\n",
       "      <th>SEVERE</th>\n",
       "      <th>INTERSECTION_RELATED_I</th>\n",
       "      <th>NOT_RIGHT_OF_WAY_I</th>\n",
       "      <th>HIT_AND_RUN_I</th>\n",
       "      <th>DAMAGE</th>\n",
       "      <th>DATE_POLICE_NOTIFIED</th>\n",
       "      <th>PRIM_CONTRIBUTORY_CAUSE</th>\n",
       "      <th>SEC_CONTRIBUTORY_CAUSE</th>\n",
       "      <th>STREET_NO</th>\n",
       "      <th>STREET_DIRECTION</th>\n",
       "      <th>STREET_NAME</th>\n",
       "      <th>BEAT_OF_OCCURRENCE</th>\n",
       "      <th>PHOTOS_TAKEN_I</th>\n",
       "      <th>STATEMENTS_TAKEN_I</th>\n",
       "      <th>DOORING_I</th>\n",
       "      <th>WORK_ZONE_I</th>\n",
       "      <th>WORK_ZONE_TYPE</th>\n",
       "      <th>WORKERS_PRESENT_I</th>\n",
       "      <th>NUM_UNITS</th>\n",
       "      <th>MOST_SEVERE_INJURY</th>\n",
       "      <th>INJURIES_TOTAL</th>\n",
       "      <th>INJURIES_FATAL</th>\n",
       "      <th>INJURIES_INCAPACITATING</th>\n",
       "      <th>INJURIES_NON_INCAPACITATING</th>\n",
       "      <th>INJURIES_REPORTED_NOT_EVIDENT</th>\n",
       "      <th>INJURIES_NO_INDICATION</th>\n",
       "      <th>INJURIES_UNKNOWN</th>\n",
       "      <th>CRASH_HOUR</th>\n",
       "      <th>CRASH_DAY_OF_WEEK</th>\n",
       "      <th>CRASH_MONTH</th>\n",
       "      <th>LATITUDE</th>\n",
       "      <th>LONGITUDE</th>\n",
       "      <th>LOCATION</th>\n",
       "    </tr>\n",
       "  </thead>\n",
       "  <tbody>\n",
       "    <tr>\n",
       "      <th>0</th>\n",
       "      <td>6c1659069e9c6285a650e70d6f9b574ed5f64c12888479...</td>\n",
       "      <td>NaN</td>\n",
       "      <td>2023-08-18 12:50:00</td>\n",
       "      <td>15</td>\n",
       "      <td>OTHER</td>\n",
       "      <td>FUNCTIONING PROPERLY</td>\n",
       "      <td>CLEAR</td>\n",
       "      <td>DAYLIGHT</td>\n",
       "      <td>REAR END</td>\n",
       "      <td>OTHER</td>\n",
       "      <td>NaN</td>\n",
       "      <td>STRAIGHT AND LEVEL</td>\n",
       "      <td>DRY</td>\n",
       "      <td>NO DEFECTS</td>\n",
       "      <td>ON SCENE</td>\n",
       "      <td>1</td>\n",
       "      <td>NaN</td>\n",
       "      <td>NaN</td>\n",
       "      <td>NaN</td>\n",
       "      <td>OVER $1,500</td>\n",
       "      <td>08/18/2023 12:55:00 PM</td>\n",
       "      <td>FOLLOWING TOO CLOSELY</td>\n",
       "      <td>DISTRACTION - FROM INSIDE VEHICLE</td>\n",
       "      <td>700</td>\n",
       "      <td>W</td>\n",
       "      <td>OHARE ST</td>\n",
       "      <td>1654.0</td>\n",
       "      <td>NaN</td>\n",
       "      <td>NaN</td>\n",
       "      <td>NaN</td>\n",
       "      <td>NaN</td>\n",
       "      <td>NaN</td>\n",
       "      <td>NaN</td>\n",
       "      <td>2</td>\n",
       "      <td>NONINCAPACITATING INJURY</td>\n",
       "      <td>1.0</td>\n",
       "      <td>0.0</td>\n",
       "      <td>0.0</td>\n",
       "      <td>1.0</td>\n",
       "      <td>0.0</td>\n",
       "      <td>1.0</td>\n",
       "      <td>0.0</td>\n",
       "      <td>12</td>\n",
       "      <td>6</td>\n",
       "      <td>8</td>\n",
       "      <td>NaN</td>\n",
       "      <td>NaN</td>\n",
       "      <td>NaN</td>\n",
       "    </tr>\n",
       "    <tr>\n",
       "      <th>1</th>\n",
       "      <td>5f54a59fcb087b12ae5b1acff96a3caf4f2d37e79f8db4...</td>\n",
       "      <td>NaN</td>\n",
       "      <td>2023-07-29 14:45:00</td>\n",
       "      <td>30</td>\n",
       "      <td>TRAFFIC SIGNAL</td>\n",
       "      <td>FUNCTIONING PROPERLY</td>\n",
       "      <td>CLEAR</td>\n",
       "      <td>DAYLIGHT</td>\n",
       "      <td>PARKED MOTOR VEHICLE</td>\n",
       "      <td>DIVIDED - W/MEDIAN (NOT RAISED)</td>\n",
       "      <td>NaN</td>\n",
       "      <td>STRAIGHT AND LEVEL</td>\n",
       "      <td>DRY</td>\n",
       "      <td>NO DEFECTS</td>\n",
       "      <td>ON SCENE</td>\n",
       "      <td>0</td>\n",
       "      <td>NaN</td>\n",
       "      <td>NaN</td>\n",
       "      <td>Y</td>\n",
       "      <td>OVER $1,500</td>\n",
       "      <td>07/29/2023 02:45:00 PM</td>\n",
       "      <td>FAILING TO REDUCE SPEED TO AVOID CRASH</td>\n",
       "      <td>OPERATING VEHICLE IN ERRATIC, RECKLESS, CARELE...</td>\n",
       "      <td>2101</td>\n",
       "      <td>S</td>\n",
       "      <td>ASHLAND AVE</td>\n",
       "      <td>1235.0</td>\n",
       "      <td>NaN</td>\n",
       "      <td>NaN</td>\n",
       "      <td>NaN</td>\n",
       "      <td>NaN</td>\n",
       "      <td>NaN</td>\n",
       "      <td>NaN</td>\n",
       "      <td>4</td>\n",
       "      <td>NO INDICATION OF INJURY</td>\n",
       "      <td>0.0</td>\n",
       "      <td>0.0</td>\n",
       "      <td>0.0</td>\n",
       "      <td>0.0</td>\n",
       "      <td>0.0</td>\n",
       "      <td>1.0</td>\n",
       "      <td>0.0</td>\n",
       "      <td>14</td>\n",
       "      <td>7</td>\n",
       "      <td>7</td>\n",
       "      <td>41.85412</td>\n",
       "      <td>-87.665902</td>\n",
       "      <td>POINT (-87.665902342962 41.854120262952)</td>\n",
       "    </tr>\n",
       "  </tbody>\n",
       "</table>\n",
       "</div>"
      ],
      "text/plain": [
       "                                     CRASH_RECORD_ID CRASH_DATE_EST_I  \\\n",
       "0  6c1659069e9c6285a650e70d6f9b574ed5f64c12888479...              NaN   \n",
       "1  5f54a59fcb087b12ae5b1acff96a3caf4f2d37e79f8db4...              NaN   \n",
       "\n",
       "           CRASH_DATE  POSTED_SPEED_LIMIT TRAFFIC_CONTROL_DEVICE  \\\n",
       "0 2023-08-18 12:50:00                  15                  OTHER   \n",
       "1 2023-07-29 14:45:00                  30         TRAFFIC SIGNAL   \n",
       "\n",
       "       DEVICE_CONDITION WEATHER_CONDITION LIGHTING_CONDITION  \\\n",
       "0  FUNCTIONING PROPERLY             CLEAR           DAYLIGHT   \n",
       "1  FUNCTIONING PROPERLY             CLEAR           DAYLIGHT   \n",
       "\n",
       "       FIRST_CRASH_TYPE                  TRAFFICWAY_TYPE  LANE_CNT  \\\n",
       "0              REAR END                            OTHER       NaN   \n",
       "1  PARKED MOTOR VEHICLE  DIVIDED - W/MEDIAN (NOT RAISED)       NaN   \n",
       "\n",
       "            ALIGNMENT ROADWAY_SURFACE_COND ROAD_DEFECT REPORT_TYPE  SEVERE  \\\n",
       "0  STRAIGHT AND LEVEL                  DRY  NO DEFECTS    ON SCENE       1   \n",
       "1  STRAIGHT AND LEVEL                  DRY  NO DEFECTS    ON SCENE       0   \n",
       "\n",
       "  INTERSECTION_RELATED_I NOT_RIGHT_OF_WAY_I HIT_AND_RUN_I       DAMAGE  \\\n",
       "0                    NaN                NaN           NaN  OVER $1,500   \n",
       "1                    NaN                NaN             Y  OVER $1,500   \n",
       "\n",
       "     DATE_POLICE_NOTIFIED                 PRIM_CONTRIBUTORY_CAUSE  \\\n",
       "0  08/18/2023 12:55:00 PM                   FOLLOWING TOO CLOSELY   \n",
       "1  07/29/2023 02:45:00 PM  FAILING TO REDUCE SPEED TO AVOID CRASH   \n",
       "\n",
       "                              SEC_CONTRIBUTORY_CAUSE  STREET_NO  \\\n",
       "0                  DISTRACTION - FROM INSIDE VEHICLE        700   \n",
       "1  OPERATING VEHICLE IN ERRATIC, RECKLESS, CARELE...       2101   \n",
       "\n",
       "  STREET_DIRECTION  STREET_NAME  BEAT_OF_OCCURRENCE PHOTOS_TAKEN_I  \\\n",
       "0                W     OHARE ST              1654.0            NaN   \n",
       "1                S  ASHLAND AVE              1235.0            NaN   \n",
       "\n",
       "  STATEMENTS_TAKEN_I DOORING_I WORK_ZONE_I WORK_ZONE_TYPE WORKERS_PRESENT_I  \\\n",
       "0                NaN       NaN         NaN            NaN               NaN   \n",
       "1                NaN       NaN         NaN            NaN               NaN   \n",
       "\n",
       "   NUM_UNITS        MOST_SEVERE_INJURY  INJURIES_TOTAL  INJURIES_FATAL  \\\n",
       "0          2  NONINCAPACITATING INJURY             1.0             0.0   \n",
       "1          4   NO INDICATION OF INJURY             0.0             0.0   \n",
       "\n",
       "   INJURIES_INCAPACITATING  INJURIES_NON_INCAPACITATING  \\\n",
       "0                      0.0                          1.0   \n",
       "1                      0.0                          0.0   \n",
       "\n",
       "   INJURIES_REPORTED_NOT_EVIDENT  INJURIES_NO_INDICATION  INJURIES_UNKNOWN  \\\n",
       "0                            0.0                     1.0               0.0   \n",
       "1                            0.0                     1.0               0.0   \n",
       "\n",
       "   CRASH_HOUR  CRASH_DAY_OF_WEEK  CRASH_MONTH  LATITUDE  LONGITUDE  \\\n",
       "0          12                  6            8       NaN        NaN   \n",
       "1          14                  7            7  41.85412 -87.665902   \n",
       "\n",
       "                                   LOCATION  \n",
       "0                                       NaN  \n",
       "1  POINT (-87.665902342962 41.854120262952)  "
      ]
     },
     "execution_count": 53,
     "metadata": {},
     "output_type": "execute_result"
    }
   ],
   "source": [
    "df.head(2)"
   ]
  },
  {
   "cell_type": "markdown",
   "metadata": {},
   "source": [
    "**Checking the value counts of multiple columns using for loop** "
   ]
  },
  {
   "cell_type": "code",
   "execution_count": 54,
   "metadata": {},
   "outputs": [
    {
     "name": "stdout",
     "output_type": "stream",
     "text": [
      "INTERSECTION_RELATED_I\n",
      "Y    189438\n",
      "N      9494\n",
      "Name: count, dtype: int64\n",
      "_________________________________________________________________\n",
      "ALIGNMENT\n",
      "STRAIGHT AND LEVEL       847152\n",
      "STRAIGHT ON GRADE         10626\n",
      "CURVE, LEVEL               6160\n",
      "STRAIGHT ON HILLCREST      2213\n",
      "CURVE ON GRADE             1284\n",
      "CURVE ON HILLCREST          376\n",
      "Name: count, dtype: int64\n",
      "_________________________________________________________________\n",
      "NOT_RIGHT_OF_WAY_I\n",
      "Y    36066\n",
      "N     3652\n",
      "Name: count, dtype: int64\n",
      "_________________________________________________________________\n",
      "HIT_AND_RUN_I\n",
      "Y    260335\n",
      "N     11666\n",
      "Name: count, dtype: int64\n",
      "_________________________________________________________________\n",
      "WORK_ZONE_I\n",
      "Y    3784\n",
      "N    1119\n",
      "Name: count, dtype: int64\n",
      "_________________________________________________________________\n",
      "MOST_SEVERE_INJURY\n",
      "NO INDICATION OF INJURY     744828\n",
      "NONINCAPACITATING INJURY     68106\n",
      "REPORTED, NOT EVIDENT        37409\n",
      "INCAPACITATING INJURY        14593\n",
      "FATAL                          952\n",
      "Name: count, dtype: int64\n",
      "_________________________________________________________________\n",
      "FIRST_CRASH_TYPE\n",
      "PARKED MOTOR VEHICLE            201358\n",
      "REAR END                        192699\n",
      "SIDESWIPE SAME DIRECTION        132836\n",
      "TURNING                         124425\n",
      "ANGLE                            94298\n",
      "FIXED OBJECT                     40536\n",
      "PEDESTRIAN                       20330\n",
      "PEDALCYCLIST                     13521\n",
      "SIDESWIPE OPPOSITE DIRECTION     12108\n",
      "REAR TO FRONT                     8748\n",
      "OTHER OBJECT                      8638\n",
      "HEAD ON                           7406\n",
      "REAR TO SIDE                      5194\n",
      "OTHER NONCOLLISION                2692\n",
      "REAR TO REAR                      1824\n",
      "ANIMAL                             622\n",
      "OVERTURNED                         530\n",
      "TRAIN                               46\n",
      "Name: count, dtype: int64\n",
      "_________________________________________________________________\n",
      "PRIM_CONTRIBUTORY_CAUSE\n",
      "UNABLE TO DETERMINE                                                                 338796\n",
      "FAILING TO YIELD RIGHT-OF-WAY                                                        95535\n",
      "FOLLOWING TOO CLOSELY                                                                83894\n",
      "NOT APPLICABLE                                                                       45985\n",
      "IMPROPER OVERTAKING/PASSING                                                          43070\n",
      "FAILING TO REDUCE SPEED TO AVOID CRASH                                               36505\n",
      "IMPROPER BACKING                                                                     33810\n",
      "IMPROPER LANE USAGE                                                                  30968\n",
      "DRIVING SKILLS/KNOWLEDGE/EXPERIENCE                                                  29400\n",
      "IMPROPER TURNING/NO SIGNAL                                                           28989\n",
      "DISREGARDING TRAFFIC SIGNALS                                                         16992\n",
      "WEATHER                                                                              12685\n",
      "OPERATING VEHICLE IN ERRATIC, RECKLESS, CARELESS, NEGLIGENT OR AGGRESSIVE MANNER     10974\n",
      "DISREGARDING STOP SIGN                                                                9327\n",
      "DISTRACTION - FROM INSIDE VEHICLE                                                     5911\n",
      "EQUIPMENT - VEHICLE CONDITION                                                         5382\n",
      "PHYSICAL CONDITION OF DRIVER                                                          5132\n",
      "VISION OBSCURED (SIGNS, TREE LIMBS, BUILDINGS, ETC.)                                  4917\n",
      "DRIVING ON WRONG SIDE/WRONG WAY                                                       4692\n",
      "UNDER THE INFLUENCE OF ALCOHOL/DRUGS (USE WHEN ARREST IS EFFECTED)                    4044\n",
      "DISTRACTION - FROM OUTSIDE VEHICLE                                                    3515\n",
      "ROAD ENGINEERING/SURFACE/MARKING DEFECTS                                              2097\n",
      "EXCEEDING AUTHORIZED SPEED LIMIT                                                      1982\n",
      "DISREGARDING OTHER TRAFFIC SIGNS                                                      1859\n",
      "ROAD CONSTRUCTION/MAINTENANCE                                                         1831\n",
      "EXCEEDING SAFE SPEED FOR CONDITIONS                                                   1684\n",
      "EVASIVE ACTION DUE TO ANIMAL, OBJECT, NONMOTORIST                                     1585\n",
      "CELL PHONE USE OTHER THAN TEXTING                                                     1151\n",
      "DISREGARDING ROAD MARKINGS                                                            1056\n",
      "HAD BEEN DRINKING (USE WHEN ARREST IS NOT MADE)                                        871\n",
      "ANIMAL                                                                                 735\n",
      "TURNING RIGHT ON RED                                                                   662\n",
      "RELATED TO BUS STOP                                                                    447\n",
      "DISTRACTION - OTHER ELECTRONIC DEVICE (NAVIGATION DEVICE, DVD PLAYER, ETC.)            411\n",
      "TEXTING                                                                                331\n",
      "DISREGARDING YIELD SIGN                                                                277\n",
      "PASSING STOPPED SCHOOL BUS                                                             108\n",
      "OBSTRUCTED CROSSWALKS                                                                   95\n",
      "BICYCLE ADVANCING LEGALLY ON RED LIGHT                                                  83\n",
      "MOTORCYCLE ADVANCING LEGALLY ON RED LIGHT                                               23\n",
      "Name: count, dtype: int64\n",
      "_________________________________________________________________\n"
     ]
    }
   ],
   "source": [
    "# finding value_counts of columns using for loop\n",
    "columns=['INTERSECTION_RELATED_I','ALIGNMENT','NOT_RIGHT_OF_WAY_I','HIT_AND_RUN_I',\n",
    "         'WORK_ZONE_I','MOST_SEVERE_INJURY','FIRST_CRASH_TYPE','PRIM_CONTRIBUTORY_CAUSE']\n",
    "for i in columns:\n",
    "    print(df[i].value_counts())\n",
    "    print('_________________________________________________________________')"
   ]
  },
  {
   "cell_type": "markdown",
   "metadata": {},
   "source": [
    "**Changing the column values to binary i.e(0 or 1) instead of (Y or N) using the lambda\n",
    "function in columns INTERSECTION_RELATED_I, NOT_RIGHT_OF_WAY_I, HIT_AND_RUN_I and\n",
    "WORK_ZONE_I.**"
   ]
  },
  {
   "cell_type": "code",
   "execution_count": 55,
   "metadata": {},
   "outputs": [],
   "source": [
    "#lambda fuction to change values to binary\n",
    "df['INTERSECTION_RELATED_I'] = df['INTERSECTION_RELATED_I'].map(lambda x: 1 if x=='Y' else 0)\n",
    "df['NOT_RIGHT_OF_WAY_I'] = df['NOT_RIGHT_OF_WAY_I'].map(lambda x:1 if x=='Y' else 0)\n",
    "df['HIT_AND_RUN_I'] =df['HIT_AND_RUN_I'].map(lambda x:1 if x=='Y' else 0)"
   ]
  },
  {
   "cell_type": "code",
   "execution_count": 56,
   "metadata": {},
   "outputs": [],
   "source": [
    "#replacing null values with 0 and lambda function to convert values to binary\n",
    "df['WORK_ZONE_I'].fillna(0, inplace=True)\n",
    "df['WORK_ZONE_I'] =df['WORK_ZONE_I'].map(lambda x:1 if x=='Y' else 0)"
   ]
  },
  {
   "cell_type": "markdown",
   "metadata": {},
   "source": [
    "**Replacing null values with 0 in multiple columns using for loop**"
   ]
  },
  {
   "cell_type": "code",
   "execution_count": 57,
   "metadata": {},
   "outputs": [],
   "source": [
    "#filling nu\n",
    "col=['INJURIES_TOTAL','INJURIES_FATAL','INJURIES_INCAPACITATING',\n",
    "     'INJURIES_NON_INCAPACITATING','INJURIES_REPORTED_NOT_EVIDENT',\n",
    "     'INJURIES_NO_INDICATION','LANE_CNT' ]\n",
    "for i in col:\n",
    "    df[i].fillna(0, inplace=True)"
   ]
  },
  {
   "cell_type": "markdown",
   "metadata": {},
   "source": [
    "**Dropping the inconclusive columns**"
   ]
  },
  {
   "cell_type": "code",
   "execution_count": 58,
   "metadata": {},
   "outputs": [],
   "source": [
    "#dropping the columns which are inconclusive\n",
    "drop_list = ['CRASH_DATE_EST_I','REPORT_TYPE','DATE_POLICE_NOTIFIED', \n",
    "             'STREET_DIRECTION', 'BEAT_OF_OCCURRENCE','PHOTOS_TAKEN_I','STATEMENTS_TAKEN_I', \n",
    "             'DOORING_I','WORK_ZONE_TYPE', 'WORKERS_PRESENT_I','LATITUDE', \n",
    "             'LONGITUDE','CRASH_RECORD_ID','INJURIES_UNKNOWN','STREET_NO',\n",
    "             'MOST_SEVERE_INJURY','SEC_CONTRIBUTORY_CAUSE','LOCATION','STREET_NAME']\n",
    "df.drop(columns = drop_list, inplace = True)"
   ]
  },
  {
   "cell_type": "code",
   "execution_count": 59,
   "metadata": {},
   "outputs": [
    {
     "name": "stdout",
     "output_type": "stream",
     "text": [
      "<class 'pandas.core.frame.DataFrame'>\n",
      "RangeIndex: 867811 entries, 0 to 867810\n",
      "Data columns (total 29 columns):\n",
      " #   Column                         Non-Null Count   Dtype         \n",
      "---  ------                         --------------   -----         \n",
      " 0   CRASH_DATE                     867811 non-null  datetime64[ns]\n",
      " 1   POSTED_SPEED_LIMIT             867811 non-null  int64         \n",
      " 2   TRAFFIC_CONTROL_DEVICE         867811 non-null  object        \n",
      " 3   DEVICE_CONDITION               867811 non-null  object        \n",
      " 4   WEATHER_CONDITION              867811 non-null  object        \n",
      " 5   LIGHTING_CONDITION             867811 non-null  object        \n",
      " 6   FIRST_CRASH_TYPE               867811 non-null  object        \n",
      " 7   TRAFFICWAY_TYPE                867811 non-null  object        \n",
      " 8   LANE_CNT                       867811 non-null  float64       \n",
      " 9   ALIGNMENT                      867811 non-null  object        \n",
      " 10  ROADWAY_SURFACE_COND           867811 non-null  object        \n",
      " 11  ROAD_DEFECT                    867811 non-null  object        \n",
      " 12  SEVERE                         867811 non-null  int64         \n",
      " 13  INTERSECTION_RELATED_I         867811 non-null  int64         \n",
      " 14  NOT_RIGHT_OF_WAY_I             867811 non-null  int64         \n",
      " 15  HIT_AND_RUN_I                  867811 non-null  int64         \n",
      " 16  DAMAGE                         867811 non-null  object        \n",
      " 17  PRIM_CONTRIBUTORY_CAUSE        867811 non-null  object        \n",
      " 18  WORK_ZONE_I                    867811 non-null  int64         \n",
      " 19  NUM_UNITS                      867811 non-null  int64         \n",
      " 20  INJURIES_TOTAL                 867811 non-null  float64       \n",
      " 21  INJURIES_FATAL                 867811 non-null  float64       \n",
      " 22  INJURIES_INCAPACITATING        867811 non-null  float64       \n",
      " 23  INJURIES_NON_INCAPACITATING    867811 non-null  float64       \n",
      " 24  INJURIES_REPORTED_NOT_EVIDENT  867811 non-null  float64       \n",
      " 25  INJURIES_NO_INDICATION         867811 non-null  float64       \n",
      " 26  CRASH_HOUR                     867811 non-null  int64         \n",
      " 27  CRASH_DAY_OF_WEEK              867811 non-null  int64         \n",
      " 28  CRASH_MONTH                    867811 non-null  int64         \n",
      "dtypes: datetime64[ns](1), float64(7), int64(10), object(11)\n",
      "memory usage: 192.0+ MB\n"
     ]
    }
   ],
   "source": [
    "#printing the shape of dataframe after droppin the columns\n",
    "df.info()"
   ]
  },
  {
   "cell_type": "markdown",
   "metadata": {},
   "source": [
    "**Capped the continuous values of the column 'INJURIES_NO_INDICATION ' greater than 7\n",
    " assigned to 7**"
   ]
  },
  {
   "cell_type": "code",
   "execution_count": 60,
   "metadata": {},
   "outputs": [
    {
     "name": "stdout",
     "output_type": "stream",
     "text": [
      "INJURIES_NO_INDICATION\n",
      "2.0     402432\n",
      "1.0     265555\n",
      "3.0     109188\n",
      "4.0      40803\n",
      "0.0      20378\n",
      "5.0      17146\n",
      "6.0       7102\n",
      "7.0       2774\n",
      "8.0       1232\n",
      "9.0        512\n",
      "10.0       243\n",
      "11.0       116\n",
      "12.0        74\n",
      "13.0        45\n",
      "14.0        41\n",
      "15.0        23\n",
      "16.0        21\n",
      "17.0        16\n",
      "20.0        13\n",
      "19.0         9\n",
      "21.0         7\n",
      "29.0         7\n",
      "26.0         6\n",
      "37.0         6\n",
      "22.0         6\n",
      "18.0         5\n",
      "30.0         5\n",
      "36.0         4\n",
      "31.0         4\n",
      "24.0         4\n",
      "27.0         4\n",
      "28.0         3\n",
      "25.0         3\n",
      "42.0         3\n",
      "33.0         2\n",
      "34.0         2\n",
      "45.0         2\n",
      "32.0         2\n",
      "40.0         2\n",
      "41.0         1\n",
      "35.0         1\n",
      "23.0         1\n",
      "50.0         1\n",
      "49.0         1\n",
      "43.0         1\n",
      "48.0         1\n",
      "38.0         1\n",
      "61.0         1\n",
      "46.0         1\n",
      "39.0         1\n",
      "Name: count, dtype: int64\n",
      "INJURIES_NO_INDICATION\n",
      "2.0    402432\n",
      "1.0    265555\n",
      "3.0    109188\n",
      "4.0     40803\n",
      "0.0     20378\n",
      "5.0     17146\n",
      "6.0      7102\n",
      "7.0      5207\n",
      "Name: count, dtype: int64\n"
     ]
    }
   ],
   "source": [
    "#capped to 7\n",
    "print(df['INJURIES_NO_INDICATION'].value_counts())\n",
    "df['INJURIES_NO_INDICATION'].values[df['INJURIES_NO_INDICATION'] > 7] =7\n",
    "print(df['INJURIES_NO_INDICATION'].value_counts())"
   ]
  },
  {
   "cell_type": "markdown",
   "metadata": {},
   "source": [
    "**Capped the continuous values of the column 'NUM_UNITS' greater than 6\n",
    " assigned to 6**"
   ]
  },
  {
   "cell_type": "code",
   "execution_count": 61,
   "metadata": {},
   "outputs": [
    {
     "name": "stdout",
     "output_type": "stream",
     "text": [
      "NUM_UNITS\n",
      "2     759556\n",
      "3      47924\n",
      "1      47751\n",
      "4       9269\n",
      "5       2266\n",
      "6        647\n",
      "7        220\n",
      "8         98\n",
      "9         39\n",
      "10        17\n",
      "11         8\n",
      "18         5\n",
      "12         5\n",
      "14         2\n",
      "16         2\n",
      "13         1\n",
      "15         1\n",
      "Name: count, dtype: int64\n",
      "NUM_UNITS\n",
      "2    759556\n",
      "3     47924\n",
      "1     47751\n",
      "4      9269\n",
      "5      2266\n",
      "6      1045\n",
      "Name: count, dtype: int64\n"
     ]
    }
   ],
   "source": [
    "# capped at 6\n",
    "print(df['NUM_UNITS'].value_counts())\n",
    "df['NUM_UNITS'].values[df['NUM_UNITS'] > 6] = 6\n",
    "print(df['NUM_UNITS'].value_counts())"
   ]
  },
  {
   "cell_type": "markdown",
   "metadata": {},
   "source": [
    "**Capped the continuous values of the column 'INJURIES_TOTAL' greater than 5\n",
    " assigned to 5**"
   ]
  },
  {
   "cell_type": "code",
   "execution_count": 62,
   "metadata": {},
   "outputs": [
    {
     "name": "stdout",
     "output_type": "stream",
     "text": [
      "INJURIES_TOTAL\n",
      "0.0     746751\n",
      "1.0      91022\n",
      "2.0      20300\n",
      "3.0       6176\n",
      "4.0       2217\n",
      "5.0        790\n",
      "6.0        305\n",
      "7.0        125\n",
      "8.0         51\n",
      "9.0         27\n",
      "10.0        15\n",
      "11.0         9\n",
      "15.0         7\n",
      "12.0         6\n",
      "21.0         4\n",
      "13.0         2\n",
      "17.0         1\n",
      "14.0         1\n",
      "19.0         1\n",
      "16.0         1\n",
      "Name: count, dtype: int64\n",
      "INJURIES_TOTAL\n",
      "0.0    746751\n",
      "1.0     91022\n",
      "2.0     20300\n",
      "3.0      6176\n",
      "4.0      2217\n",
      "5.0      1345\n",
      "Name: count, dtype: int64\n"
     ]
    }
   ],
   "source": [
    "#capped to 5\n",
    "print(df['INJURIES_TOTAL'].value_counts())\n",
    "df['INJURIES_TOTAL'].values[df['INJURIES_TOTAL'] > 5] = 5\n",
    "print(df['INJURIES_TOTAL'].value_counts())"
   ]
  },
  {
   "cell_type": "markdown",
   "metadata": {},
   "source": [
    "**Merging and replacing the values of the column WEATHER_CONDITION to reduced the categorical values in the column.**\n",
    "- UNKNOWN and OTHER to UNKNOWN/OTHER\n",
    "- FREEZING RAIN/DRIZZLE to SLEET/HAIL\n",
    "- BLOWING SNOW to SNOW\n",
    "- SEVERE CROSS WIND GATE to CLOUDY/OVERCAST\n",
    "- BLOWING SAND, SOIL, DIRT to UNKNOWN/OTHER"
   ]
  },
  {
   "cell_type": "code",
   "execution_count": 63,
   "metadata": {},
   "outputs": [
    {
     "data": {
      "text/plain": [
       "WEATHER_CONDITION\n",
       "CLEAR                       682119\n",
       "RAIN                         75647\n",
       "UNKNOWN                      48845\n",
       "SNOW                         28399\n",
       "CLOUDY/OVERCAST              25398\n",
       "OTHER                         2709\n",
       "FREEZING RAIN/DRIZZLE         1733\n",
       "FOG/SMOKE/HAZE                1347\n",
       "SLEET/HAIL                    1010\n",
       "BLOWING SNOW                   444\n",
       "SEVERE CROSS WIND GATE         153\n",
       "BLOWING SAND, SOIL, DIRT         7\n",
       "Name: count, dtype: int64"
      ]
     },
     "execution_count": 63,
     "metadata": {},
     "output_type": "execute_result"
    }
   ],
   "source": [
    "#printing the value counts\n",
    "df['WEATHER_CONDITION'].value_counts()"
   ]
  },
  {
   "cell_type": "code",
   "execution_count": 64,
   "metadata": {},
   "outputs": [
    {
     "data": {
      "text/plain": [
       "WEATHER_CONDITION\n",
       "CLEAR              682119\n",
       "RAIN                75647\n",
       "UNKNOWN/OTHER       51561\n",
       "SNOW                28843\n",
       "CLOUDY/OVERCAST     25551\n",
       "SLEET/HAIL           2743\n",
       "FOG/SMOKE/HAZE       1347\n",
       "Name: count, dtype: int64"
      ]
     },
     "execution_count": 64,
     "metadata": {},
     "output_type": "execute_result"
    }
   ],
   "source": [
    "#merging the values  and printing the value counts after merge\n",
    "df['WEATHER_CONDITION'] = df['WEATHER_CONDITION'].replace({'UNKNOWN':'UNKNOWN/OTHER','OTHER':'UNKNOWN/OTHER',\n",
    "                                                     'FREEZING RAIN/DRIZZLE': 'SLEET/HAIL',\n",
    "                                                     'BLOWING SNOW': 'SNOW',\n",
    "                                                      'SEVERE CROSS WIND GATE': 'CLOUDY/OVERCAST',\n",
    "                                                     'BLOWING SAND, SOIL, DIRT': 'UNKNOWN/OTHER'})\n",
    "df['WEATHER_CONDITION'].value_counts()"
   ]
  },
  {
   "cell_type": "markdown",
   "metadata": {},
   "source": [
    "**Merging and replacing the values of the column 'ROADWAY_SURFACE_COND'  to reduced the categorical values in the column.**\n",
    "- UNKNOWN  - UNKNOWN/OTHER\n",
    "- OTHER    - UNKNOWN/OTHER\n",
    "- SAND, MUD, DIRT - UNKNOWN/OTHER\n",
    "- ICE   -  SNOW OR SLUSH"
   ]
  },
  {
   "cell_type": "code",
   "execution_count": 65,
   "metadata": {},
   "outputs": [
    {
     "data": {
      "text/plain": [
       "ROADWAY_SURFACE_COND\n",
       "DRY                641531\n",
       "WET                114363\n",
       "UNKNOWN             75641\n",
       "SNOW OR SLUSH       28126\n",
       "ICE                  5659\n",
       "OTHER                2177\n",
       "SAND, MUD, DIRT       314\n",
       "Name: count, dtype: int64"
      ]
     },
     "execution_count": 65,
     "metadata": {},
     "output_type": "execute_result"
    }
   ],
   "source": [
    "#printing the value_counts\n",
    "df['ROADWAY_SURFACE_COND'].value_counts()"
   ]
  },
  {
   "cell_type": "code",
   "execution_count": 66,
   "metadata": {},
   "outputs": [
    {
     "data": {
      "text/plain": [
       "ROADWAY_SURFACE_COND\n",
       "DRY              641531\n",
       "WET              114363\n",
       "UNKNOWN/OTHER     78132\n",
       "SNOW OR SLUSH     33785\n",
       "Name: count, dtype: int64"
      ]
     },
     "execution_count": 66,
     "metadata": {},
     "output_type": "execute_result"
    }
   ],
   "source": [
    "#merging the values and printing the new value counts\n",
    "df['ROADWAY_SURFACE_COND'] =df['ROADWAY_SURFACE_COND'].replace({'UNKNOWN':'UNKNOWN/OTHER',\n",
    "                                                                 'OTHER':'UNKNOWN/OTHER',\n",
    "                                                               'SAND, MUD, DIRT': 'UNKNOWN/OTHER',\n",
    "                                                                 'ICE': 'SNOW OR SLUSH'})\n",
    "df['ROADWAY_SURFACE_COND'].value_counts()"
   ]
  },
  {
   "cell_type": "markdown",
   "metadata": {},
   "source": [
    "**Merging and replacing the values of the column 'TRAFFIC_CONTROL_DEVICE'  to reduced the categorical values in the column.**\n",
    "- UNKNOWN - UNKNOWN/OTHER\n",
    "- OTHER - UNKNOWN/OTHER\n",
    "- FLASHING CONTROL SIGNAL- STOP SIGN/FLASHER\n",
    "- OTHER RAILROAD CROSSING - RAILROAD CROSSING GATE"
   ]
  },
  {
   "cell_type": "code",
   "execution_count": 67,
   "metadata": {},
   "outputs": [
    {
     "data": {
      "text/plain": [
       "TRAFFIC_CONTROL_DEVICE\n",
       "NO CONTROLS                 492154\n",
       "TRAFFIC SIGNAL              240615\n",
       "STOP SIGN/FLASHER            85970\n",
       "UNKNOWN                      35993\n",
       "OTHER                         5894\n",
       "YIELD                         1305\n",
       "LANE USE MARKING              1226\n",
       "OTHER REG. SIGN               1029\n",
       "OTHER WARNING SIGN             701\n",
       "PEDESTRIAN CROSSING SIGN       586\n",
       "RAILROAD CROSSING GATE         560\n",
       "FLASHING CONTROL SIGNAL        357\n",
       "DELINEATORS                    347\n",
       "SCHOOL ZONE                    325\n",
       "POLICE/FLAGMAN                 293\n",
       "OTHER RAILROAD CROSSING        189\n",
       "RR CROSSING SIGN               182\n",
       "NO PASSING                      54\n",
       "BICYCLE CROSSING SIGN           31\n",
       "Name: count, dtype: int64"
      ]
     },
     "execution_count": 67,
     "metadata": {},
     "output_type": "execute_result"
    }
   ],
   "source": [
    "#printing value_counts\n",
    "df['TRAFFIC_CONTROL_DEVICE'].value_counts()"
   ]
  },
  {
   "cell_type": "code",
   "execution_count": 68,
   "metadata": {},
   "outputs": [
    {
     "data": {
      "text/plain": [
       "TRAFFIC_CONTROL_DEVICE\n",
       "NO CONTROLS                 492154\n",
       "TRAFFIC SIGNAL              240615\n",
       "STOP SIGN/FLASHER            85970\n",
       "UNKNOWN/OTHER                41887\n",
       "YIELD                         1305\n",
       "LANE USE MARKING              1226\n",
       "OTHER REG. SIGN               1029\n",
       "RAILROAD CROSSING GATE         749\n",
       "OTHER WARNING SIGN             701\n",
       "PEDESTRIAN CROSSING SIGN       586\n",
       "STOP SIGN/FALSHER              357\n",
       "DELINEATORS                    347\n",
       "SCHOOL ZONE                    325\n",
       "POLICE/FLAGMAN                 293\n",
       "RR CROSSING SIGN               182\n",
       "NO PASSING                      54\n",
       "BICYCLE CROSSING SIGN           31\n",
       "Name: count, dtype: int64"
      ]
     },
     "execution_count": 68,
     "metadata": {},
     "output_type": "execute_result"
    }
   ],
   "source": [
    "#merging and replacing values, printing the new value counts\n",
    "df['TRAFFIC_CONTROL_DEVICE']=df['TRAFFIC_CONTROL_DEVICE'].replace(\n",
    "                            {'UNKNOWN':'UNKNOWN/OTHER',\n",
    "                            'OTHER':'UNKNOWN/OTHER',\n",
    "                            'FLASHING CONTROL SIGNAL':'STOP SIGN/FALSHER',\n",
    "                              'OTHER RAILROAD CROSSING':'RAILROAD CROSSING GATE'})\n",
    "df['TRAFFIC_CONTROL_DEVICE'].value_counts()"
   ]
  },
  {
   "cell_type": "markdown",
   "metadata": {},
   "source": [
    "**Merging and replacing the values of the column 'ROAD_DEFECT'  to reduced the categorical values in the column.**\n",
    "- UNKNOWN - UNKNOWN/OTHER\n",
    "- OTHER    -UNKNOWN/OTHER"
   ]
  },
  {
   "cell_type": "code",
   "execution_count": 69,
   "metadata": {},
   "outputs": [
    {
     "data": {
      "text/plain": [
       "ROAD_DEFECT\n",
       "NO DEFECTS           693937\n",
       "UNKNOWN              157171\n",
       "RUT, HOLES             6252\n",
       "OTHER                  4711\n",
       "WORN SURFACE           3574\n",
       "SHOULDER DEFECT        1526\n",
       "DEBRIS ON ROADWAY       640\n",
       "Name: count, dtype: int64"
      ]
     },
     "execution_count": 69,
     "metadata": {},
     "output_type": "execute_result"
    }
   ],
   "source": [
    "#Printing value counts\n",
    "df['ROAD_DEFECT'].value_counts()"
   ]
  },
  {
   "cell_type": "code",
   "execution_count": 70,
   "metadata": {},
   "outputs": [
    {
     "data": {
      "text/plain": [
       "ROAD_DEFECT\n",
       "NO DEFECTS           693937\n",
       "UNKNOWN/OTHER        161882\n",
       "RUT, HOLES             6252\n",
       "WORN SURFACE           3574\n",
       "SHOULDER DEFECT        1526\n",
       "DEBRIS ON ROADWAY       640\n",
       "Name: count, dtype: int64"
      ]
     },
     "execution_count": 70,
     "metadata": {},
     "output_type": "execute_result"
    }
   ],
   "source": [
    "#merging and replacing the values \n",
    "df['ROAD_DEFECT'] = df['ROAD_DEFECT'].replace({'UNKNOWN':'UNKNOWN/OTHER',\n",
    "                            'OTHER':'UNKNOWN/OTHER'})\n",
    "#printing the new value counts\n",
    "df['ROAD_DEFECT'].value_counts()"
   ]
  },
  {
   "cell_type": "markdown",
   "metadata": {},
   "source": [
    "**Merging and replacing the values of the column 'TRAFFICWAY_TYPE' to reduced the categorical values in the column.**\n",
    "- T-INTERSECTION - INTERSECTION\n",
    "- UNKNOWN INTERSECTION TYPE - INTERSECTION\n",
    "- Y-INTERSECTION - INTERSECTION\n",
    "- L-INTERSECTION - INTERSECTION\n",
    "- FIVE POINT, OR MORE - INTERSECTION\n",
    "- FOUR WAY - INTERSECTION\n",
    "- ROUNDABOUT - INTERSECTION \n",
    "- OTHER - UNKNOWN/OTHER\n",
    "- UNKNOWN - UNKNOWN/OTHER\n",
    "- NOT REPORTED- UNKNOWN/OTHER\n",
    "- TRAFFIC ROUTE - UNKNOWN/OTHER"
   ]
  },
  {
   "cell_type": "code",
   "execution_count": 71,
   "metadata": {},
   "outputs": [
    {
     "data": {
      "text/plain": [
       "TRAFFICWAY_TYPE\n",
       "NOT DIVIDED                        374827\n",
       "DIVIDED - W/MEDIAN (NOT RAISED)    137676\n",
       "ONE-WAY                            110174\n",
       "PARKING LOT                         58924\n",
       "FOUR WAY                            58224\n",
       "DIVIDED - W/MEDIAN BARRIER          49256\n",
       "OTHER                               23569\n",
       "ALLEY                               14314\n",
       "T-INTERSECTION                      11600\n",
       "UNKNOWN                             10174\n",
       "CENTER TURN LANE                     6201\n",
       "DRIVEWAY                             2813\n",
       "RAMP                                 2723\n",
       "UNKNOWN INTERSECTION TYPE            2643\n",
       "FIVE POINT, OR MORE                  1282\n",
       "Y-INTERSECTION                       1262\n",
       "TRAFFIC ROUTE                        1043\n",
       "NOT REPORTED                          638\n",
       "ROUNDABOUT                            288\n",
       "L-INTERSECTION                        180\n",
       "Name: count, dtype: int64"
      ]
     },
     "execution_count": 71,
     "metadata": {},
     "output_type": "execute_result"
    }
   ],
   "source": [
    "#printing value counts\n",
    "df['TRAFFICWAY_TYPE'].value_counts()"
   ]
  },
  {
   "cell_type": "code",
   "execution_count": 72,
   "metadata": {},
   "outputs": [
    {
     "data": {
      "text/plain": [
       "TRAFFICWAY_TYPE\n",
       "NOT DIVIDED                        374827\n",
       "DIVIDED - W/MEDIAN (NOT RAISED)    137676\n",
       "ONE-WAY                            110174\n",
       "INTERSECTION                        75479\n",
       "PARKING LOT                         58924\n",
       "DIVIDED - W/MEDIAN BARRIER          49256\n",
       "UNKNOWN/OTHER                       35424\n",
       "ALLEY                               14314\n",
       "CENTER TURN LANE                     6201\n",
       "DRIVEWAY                             2813\n",
       "RAMP                                 2723\n",
       "Name: count, dtype: int64"
      ]
     },
     "execution_count": 72,
     "metadata": {},
     "output_type": "execute_result"
    }
   ],
   "source": [
    "# merged the different types of intersections into one feature and unknown/other into one feature\n",
    "df['TRAFFICWAY_TYPE'] = df['TRAFFICWAY_TYPE'].replace({'T-INTERSECTION':'INTERSECTION', 'UNKNOWN INTERSECTION TYPE':'INTERSECTION',\n",
    "                                                'Y-INTERSECTION':'INTERSECTION','L-INTERSECTION':'INTERSECTION',\n",
    "                                                 'FIVE POINT, OR MORE': 'INTERSECTION', 'FOUR WAY':'INTERSECTION',\n",
    "                                                 'ROUNDABOUT': 'INTERSECTION', 'OTHER': 'UNKNOWN/OTHER',\n",
    "                                                'UNKNOWN':'UNKNOWN/OTHER','NOT REPORTED':'UNKNOWN/OTHER',\n",
    "                                                'TRAFFIC ROUTE':'UNKNOWN/OTHER'})\n",
    "#printing new value counts\n",
    "df.TRAFFICWAY_TYPE.value_counts()"
   ]
  },
  {
   "cell_type": "markdown",
   "metadata": {},
   "source": [
    "# Feature Engineering"
   ]
  },
  {
   "cell_type": "code",
   "execution_count": 73,
   "metadata": {},
   "outputs": [
    {
     "data": {
      "image/png": "[encoded data removed]",
      "text/plain": [
       "<Figure size 1000x700 with 1 Axes>"
      ]
     },
     "metadata": {},
     "output_type": "display_data"
    }
   ],
   "source": [
    "#bar plot of Primary contributory cause\n",
    "df['PRIM_CONTRIBUTORY_CAUSE'].value_counts(normalize = True).head(10).plot(kind = 'bar', figsize = (10,7))\n",
    "plt.title('Primary Cause of Accidents')\n",
    "plt.xlabel('Cause of Accident')\n",
    "plt.ylabel('Number of Accidents')\n",
    "plt.xticks(rotation=85);\n"
   ]
  },
  {
   "cell_type": "markdown",
   "metadata": {},
   "source": [
    "**Primary cause  of most of the accidents is unable to determine.**"
   ]
  },
  {
   "cell_type": "markdown",
   "metadata": {},
   "source": [
    "Binning the column CRASH_MONTH to seasons and added a 'SEASON' column to dataframe."
   ]
  },
  {
   "cell_type": "code",
   "execution_count": 74,
   "metadata": {},
   "outputs": [],
   "source": [
    "#binning the CRASH_MONTH\n",
    "month_bins = [1,4,7,10,13]\n",
    "label=('Winter','Spring','Summer','Fall')\n",
    "month_binned = pd.cut(df['CRASH_MONTH'], month_bins, labels= label)\n",
    "month_binned= month_binned.cat.as_unordered()\n",
    "df['SEASON']= month_binned"
   ]
  },
  {
   "cell_type": "code",
   "execution_count": 75,
   "metadata": {},
   "outputs": [
    {
     "data": {
      "text/plain": [
       "SEASON\n",
       "Spring    233502\n",
       "Summer    228643\n",
       "Winter    199507\n",
       "Fall      140093\n",
       "Name: count, dtype: int64"
      ]
     },
     "execution_count": 75,
     "metadata": {},
     "output_type": "execute_result"
    }
   ],
   "source": [
    "df['SEASON'].value_counts()"
   ]
  },
  {
   "cell_type": "code",
   "execution_count": 76,
   "metadata": {},
   "outputs": [
    {
     "data": {
      "image/png": "[encoded data removed]",
      "text/plain": [
       "<Figure size 1000x800 with 1 Axes>"
      ]
     },
     "metadata": {},
     "output_type": "display_data"
    }
   ],
   "source": [
    "plt.figure(figsize=(10,8))\n",
    "sns.countplot(x=\"SEASON\", data=df, hue=\"SEVERE\")\n",
    "plt.title('Number of Accidents by Season')\n",
    "plt.xlabel('Season')\n",
    "plt.ylabel('Number of Accidents')\n",
    "plt.xticks(rotation=40);"
   ]
  },
  {
   "cell_type": "markdown",
   "metadata": {},
   "source": [
    "**Looking at the graph, most number of accidents occurred in summer**"
   ]
  },
  {
   "cell_type": "code",
   "execution_count": 77,
   "metadata": {},
   "outputs": [
    {
     "data": {
      "image/png": "[encoded data removed]",
      "text/plain": [
       "<Figure size 1000x800 with 1 Axes>"
      ]
     },
     "metadata": {},
     "output_type": "display_data"
    }
   ],
   "source": [
    "#counterplot of CRASH_DAY_OF_WEEK\n",
    "plt.figure(figsize=(10,8))\n",
    "sns.countplot(x= \"CRASH_DAY_OF_WEEK\" , data=df, \n",
    "              hue=\"SEVERE\")\n",
    "plt.title('Accidents by Day of Week')\n",
    "plt.xlabel('Day of Week')\n",
    "plt.ylabel('Number of Accidents')\n",
    "plt.xticks(np.arange(7), ('Sun','Mon','Tue','Wed','Thr','Fri','Sat'), \n",
    "           rotation=40);"
   ]
  },
  {
   "cell_type": "markdown",
   "metadata": {},
   "source": [
    "**It seems most accidents occurred on weekend mainly(Friday and Saturday).**"
   ]
  },
  {
   "cell_type": "code",
   "execution_count": 78,
   "metadata": {},
   "outputs": [
    {
     "data": {
      "image/png": "[encoded data removed]",
      "text/plain": [
       "<Figure size 1000x800 with 1 Axes>"
      ]
     },
     "metadata": {},
     "output_type": "display_data"
    }
   ],
   "source": [
    "# CRASH_HOUR histogram plot\n",
    "plt.figure(figsize=(10,8))\n",
    "df['CRASH_HOUR'].plot(kind = 'hist', bins = 24)\n",
    "plt.title('Hour of Accident')\n",
    "plt.xlabel('Hour of Day')\n",
    "plt.ylabel('Number of Accidents')\n",
    "plt.show()"
   ]
  },
  {
   "cell_type": "markdown",
   "metadata": {},
   "source": [
    "**Noticed increased number of the accidents in the rush hour.**"
   ]
  },
  {
   "cell_type": "code",
   "execution_count": 79,
   "metadata": {},
   "outputs": [
    {
     "data": {
      "image/png": "[encoded data removed]",
      "text/plain": [
       "<Figure size 1000x800 with 1 Axes>"
      ]
     },
     "metadata": {},
     "output_type": "display_data"
    }
   ],
   "source": [
    "#bar plot of WEATHER_CONDITION\n",
    "weather = df.groupby(['WEATHER_CONDITION', 'SEVERE'])['WEATHER_CONDITION'].count().unstack()\n",
    "weather.plot( kind='bar', stacked=True, figsize =(10,8))\n",
    "plt.title('Effects of Weather Conditon')\n",
    "plt.xlabel('Weather condition')\n",
    "plt.ylabel('Number of Accidents')\n",
    "plt.xticks(rotation=75);"
   ]
  },
  {
   "cell_type": "markdown",
   "metadata": {},
   "source": [
    "**Most accidents occurred in a clear weather condition**"
   ]
  },
  {
   "cell_type": "code",
   "execution_count": 80,
   "metadata": {},
   "outputs": [
    {
     "data": {
      "image/png": "[encoded data removed]",
      "text/plain": [
       "<Figure size 1000x800 with 1 Axes>"
      ]
     },
     "metadata": {},
     "output_type": "display_data"
    }
   ],
   "source": [
    "#counter plot of RAODWAY_SURFACE_COND\n",
    "plt.figure(figsize=(10,8))\n",
    "sns.countplot(x=\"ROADWAY_SURFACE_COND\", data=df, hue=\"SEVERE\")\n",
    "plt.title('Effects of Road Conditions')\n",
    "plt.xlabel('Road Condition')\n",
    "plt.ylabel('Number of Accidents')\n",
    "plt.xticks(rotation=75);"
   ]
  },
  {
   "cell_type": "markdown",
   "metadata": {},
   "source": [
    "**Noticed most accidents happened in a DRY Road condition.**"
   ]
  },
  {
   "cell_type": "markdown",
   "metadata": {},
   "source": [
    "**Counter plot of Damage cost**"
   ]
  },
  {
   "cell_type": "code",
   "execution_count": 81,
   "metadata": {},
   "outputs": [
    {
     "data": {
      "image/png": "[encoded data removed]",
      "text/plain": [
       "<Figure size 1000x800 with 1 Axes>"
      ]
     },
     "metadata": {},
     "output_type": "display_data"
    }
   ],
   "source": [
    "#counter plot of DAMAGE\n",
    "plt.figure(figsize=(10,8))\n",
    "sns.countplot(x=\"DAMAGE\", data=df, hue=\"SEVERE\")\n",
    "plt.title('Cost of Damage')\n",
    "plt.xlabel('Cost')\n",
    "plt.ylabel('Number of Accidents')\n",
    "plt.xticks(rotation=40);"
   ]
  },
  {
   "cell_type": "markdown",
   "metadata": {},
   "source": [
    "**Large number of accidents as damage over $1500.**"
   ]
  },
  {
   "cell_type": "markdown",
   "metadata": {},
   "source": [
    "**Creating the dummies for categorical columns**"
   ]
  },
  {
   "cell_type": "code",
   "execution_count": 82,
   "metadata": {},
   "outputs": [],
   "source": [
    "#creating the dummies\n",
    "dummies=['TRAFFIC_CONTROL_DEVICE','DEVICE_CONDITION', 'WEATHER_CONDITION', \n",
    "         'LIGHTING_CONDITION', 'FIRST_CRASH_TYPE' , 'TRAFFICWAY_TYPE', \n",
    "         'ROADWAY_SURFACE_COND', 'ALIGNMENT','SEASON',\n",
    "         'ROAD_DEFECT', 'DAMAGE', 'PRIM_CONTRIBUTORY_CAUSE']\n",
    "df =  pd.get_dummies(df, columns = dummies, drop_first = True )"
   ]
  },
  {
   "cell_type": "code",
   "execution_count": 83,
   "metadata": {},
   "outputs": [
    {
     "name": "stdout",
     "output_type": "stream",
     "text": [
      "<class 'pandas.core.frame.DataFrame'>\n",
      "RangeIndex: 867811 entries, 0 to 867810\n",
      "Columns: 136 entries, CRASH_DATE to PRIM_CONTRIBUTORY_CAUSE_WEATHER\n",
      "dtypes: bool(118), datetime64[ns](1), float64(7), int64(10)\n",
      "memory usage: 216.8 MB\n"
     ]
    }
   ],
   "source": [
    "#printing the dataframe after the scrubbing\n",
    "df.info()"
   ]
  },
  {
   "cell_type": "code",
   "execution_count": 84,
   "metadata": {},
   "outputs": [],
   "source": [
    "#saving and converting the cleaned dataframe to csv file\n",
    "df.to_csv('data/carcrash_cleaned_data.csv', index=False)"
   ]
  }
 ],
 "metadata": {
  "kernelspec": {
   "display_name": "Python 3 (ipykernel)",
   "language": "python",
   "name": "python3"
  },
  "language_info": {
   "codemirror_mode": {
    "name": "ipython",
    "version": 3
   },
   "file_extension": ".py",
   "mimetype": "text/x-python",
   "name": "python",
   "nbconvert_exporter": "python",
   "pygments_lexer": "ipython3",
   "version": "3.11.6"
  },
  "toc": {
   "base_numbering": 1,
   "nav_menu": {},
   "number_sections": true,
   "sideBar": true,
   "skip_h1_title": false,
   "title_cell": "Table of Contents",
   "title_sidebar": "Contents",
   "toc_cell": false,
   "toc_position": {},
   "toc_section_display": true,
   "toc_window_display": false
  },
  "varInspector": {
   "cols": {
    "lenName": 16,
    "lenType": 16,
    "lenVar": 40
   },
   "kernels_config": {
    "python": {
     "delete_cmd_postfix": "",
     "delete_cmd_prefix": "del ",
     "library": "var_list.py",
     "varRefreshCmd": "print(var_dic_list())"
    },
    "r": {
     "delete_cmd_postfix": ") ",
     "delete_cmd_prefix": "rm(",
     "library": "var_list.r",
     "varRefreshCmd": "cat(var_dic_list()) "
    }
   },
   "types_to_exclude": [
    "module",
    "function",
    "builtin_function_or_method",
    "instance",
    "_Feature"
   ],
   "window_display": false
  }
 },
 "nbformat": 4,
 "nbformat_minor": 4
}
